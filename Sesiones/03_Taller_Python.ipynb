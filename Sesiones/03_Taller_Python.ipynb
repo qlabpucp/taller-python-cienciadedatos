{
 "cells": [
  {
   "cell_type": "markdown",
   "metadata": {
    "id": "9PMeqQU2vcdV"
   },
   "source": [
    "# **TALLER INTRODUCTORIO A PYTHON**\n",
    "\n",
    "# Sesión 2 - \"Visualización de datos en Python\" \n",
    "Este taller introductorio está dirigido a estudiantes de la Universidad Nacional Toribio Rodríguez de Mendoza de Amazonas y aborda los fundamentos para el desarrollo de habilidades de programación con Python. El objetivo es otorgar los conocimientos fundamentales al estudiante sobre la estructuración del contenido, las mecánicas de funcionamiento y las capacidades de Python como herramienta para la investigación cuantitativa en la ciencia de datos. \n",
    "\n",
    "#### Fecha:\n",
    "12 de julio\n",
    "#### Duración: \n",
    "3.50pm- 5:50pm\n",
    "#### Instructores: \n",
    "Esteban Cabrera (esteban.cabrera@pucp.edu.pe)\n",
    "\n",
    "Michael Encalada (michael.encalada@pucp.edu.pe)"
   ]
  },
  {
   "cell_type": "markdown",
   "metadata": {
    "id": "cIy0b9nQvEdt"
   },
   "source": [
    "## Índice"
   ]
  },
  {
   "cell_type": "markdown",
   "metadata": {
    "id": "QNjex7obvEdu"
   },
   "source": [
    "- <a href='#t10'>10. Visualizacion de datos en Python</a>\n",
    "     - <a href='#10.1.'>10.1. Visualizacion con Matplotlib</a>\n",
    "     - <a href='#10.2.'>10.2. Plot de linea</a>\n",
    "     - <a href='#10.3.'>10.3. Plots de Area</a>\n"
   ]
  },
  {
   "cell_type": "markdown",
   "metadata": {
    "id": "YdKkZ4p8QFZ7"
   },
   "source": [
    "# <font color=blue>10. Visualizacion de datos en Python </font>\n"
   ]
  },
  {
   "cell_type": "code",
   "execution_count": 1,
   "metadata": {
    "id": "eRjMfsp5P4i3"
   },
   "outputs": [],
   "source": [
    "import pandas as pd\n",
    "import numpy as np"
   ]
  },
  {
   "cell_type": "markdown",
   "metadata": {
    "id": "aeA5I8ApD6Qn"
   },
   "source": [
    "Montar el drive para poder acceder a nuestros archivos."
   ]
  },
  {
   "cell_type": "code",
   "execution_count": null,
   "metadata": {
    "colab": {
     "base_uri": "https://localhost:8080/",
     "height": 304
    },
    "executionInfo": {
     "elapsed": 6229,
     "status": "error",
     "timestamp": 1709902145501,
     "user": {
      "displayName": "Laboratorio de Ciencias Sociales",
      "userId": "13319980455210928079"
     },
     "user_tz": 300
    },
    "id": "Q5EY7JEEDQgb",
    "outputId": "f6321ee5-9fab-43ea-ec99-b6833e38ac1a"
   },
   "outputs": [
    {
     "ename": "MessageError",
     "evalue": "Error: credential propagation was unsuccessful",
     "output_type": "error",
     "traceback": [
      "\u001b[0;31m---------------------------------------------------------------------------\u001b[0m",
      "\u001b[0;31mMessageError\u001b[0m                              Traceback (most recent call last)",
      "\u001b[0;32m<ipython-input-2-d5df0069828e>\u001b[0m in \u001b[0;36m<cell line: 2>\u001b[0;34m()\u001b[0m\n\u001b[1;32m      1\u001b[0m \u001b[0;32mfrom\u001b[0m \u001b[0mgoogle\u001b[0m\u001b[0;34m.\u001b[0m\u001b[0mcolab\u001b[0m \u001b[0;32mimport\u001b[0m \u001b[0mdrive\u001b[0m\u001b[0;34m\u001b[0m\u001b[0;34m\u001b[0m\u001b[0m\n\u001b[0;32m----> 2\u001b[0;31m \u001b[0mdrive\u001b[0m\u001b[0;34m.\u001b[0m\u001b[0mmount\u001b[0m\u001b[0;34m(\u001b[0m\u001b[0;34m'/content/drive'\u001b[0m\u001b[0;34m)\u001b[0m\u001b[0;34m\u001b[0m\u001b[0;34m\u001b[0m\u001b[0m\n\u001b[0m",
      "\u001b[0;32m/usr/local/lib/python3.10/dist-packages/google/colab/drive.py\u001b[0m in \u001b[0;36mmount\u001b[0;34m(mountpoint, force_remount, timeout_ms, readonly)\u001b[0m\n\u001b[1;32m     98\u001b[0m \u001b[0;32mdef\u001b[0m \u001b[0mmount\u001b[0m\u001b[0;34m(\u001b[0m\u001b[0mmountpoint\u001b[0m\u001b[0;34m,\u001b[0m \u001b[0mforce_remount\u001b[0m\u001b[0;34m=\u001b[0m\u001b[0;32mFalse\u001b[0m\u001b[0;34m,\u001b[0m \u001b[0mtimeout_ms\u001b[0m\u001b[0;34m=\u001b[0m\u001b[0;36m120000\u001b[0m\u001b[0;34m,\u001b[0m \u001b[0mreadonly\u001b[0m\u001b[0;34m=\u001b[0m\u001b[0;32mFalse\u001b[0m\u001b[0;34m)\u001b[0m\u001b[0;34m:\u001b[0m\u001b[0;34m\u001b[0m\u001b[0;34m\u001b[0m\u001b[0m\n\u001b[1;32m     99\u001b[0m   \u001b[0;34m\"\"\"Mount your Google Drive at the specified mountpoint path.\"\"\"\u001b[0m\u001b[0;34m\u001b[0m\u001b[0;34m\u001b[0m\u001b[0m\n\u001b[0;32m--> 100\u001b[0;31m   return _mount(\n\u001b[0m\u001b[1;32m    101\u001b[0m       \u001b[0mmountpoint\u001b[0m\u001b[0;34m,\u001b[0m\u001b[0;34m\u001b[0m\u001b[0;34m\u001b[0m\u001b[0m\n\u001b[1;32m    102\u001b[0m       \u001b[0mforce_remount\u001b[0m\u001b[0;34m=\u001b[0m\u001b[0mforce_remount\u001b[0m\u001b[0;34m,\u001b[0m\u001b[0;34m\u001b[0m\u001b[0;34m\u001b[0m\u001b[0m\n",
      "\u001b[0;32m/usr/local/lib/python3.10/dist-packages/google/colab/drive.py\u001b[0m in \u001b[0;36m_mount\u001b[0;34m(mountpoint, force_remount, timeout_ms, ephemeral, readonly)\u001b[0m\n\u001b[1;32m    131\u001b[0m   )\n\u001b[1;32m    132\u001b[0m   \u001b[0;32mif\u001b[0m \u001b[0mephemeral\u001b[0m\u001b[0;34m:\u001b[0m\u001b[0;34m\u001b[0m\u001b[0;34m\u001b[0m\u001b[0m\n\u001b[0;32m--> 133\u001b[0;31m     _message.blocking_request(\n\u001b[0m\u001b[1;32m    134\u001b[0m         \u001b[0;34m'request_auth'\u001b[0m\u001b[0;34m,\u001b[0m \u001b[0mrequest\u001b[0m\u001b[0;34m=\u001b[0m\u001b[0;34m{\u001b[0m\u001b[0;34m'authType'\u001b[0m\u001b[0;34m:\u001b[0m \u001b[0;34m'dfs_ephemeral'\u001b[0m\u001b[0;34m}\u001b[0m\u001b[0;34m,\u001b[0m \u001b[0mtimeout_sec\u001b[0m\u001b[0;34m=\u001b[0m\u001b[0;32mNone\u001b[0m\u001b[0;34m\u001b[0m\u001b[0;34m\u001b[0m\u001b[0m\n\u001b[1;32m    135\u001b[0m     )\n",
      "\u001b[0;32m/usr/local/lib/python3.10/dist-packages/google/colab/_message.py\u001b[0m in \u001b[0;36mblocking_request\u001b[0;34m(request_type, request, timeout_sec, parent)\u001b[0m\n\u001b[1;32m    174\u001b[0m       \u001b[0mrequest_type\u001b[0m\u001b[0;34m,\u001b[0m \u001b[0mrequest\u001b[0m\u001b[0;34m,\u001b[0m \u001b[0mparent\u001b[0m\u001b[0;34m=\u001b[0m\u001b[0mparent\u001b[0m\u001b[0;34m,\u001b[0m \u001b[0mexpect_reply\u001b[0m\u001b[0;34m=\u001b[0m\u001b[0;32mTrue\u001b[0m\u001b[0;34m\u001b[0m\u001b[0;34m\u001b[0m\u001b[0m\n\u001b[1;32m    175\u001b[0m   )\n\u001b[0;32m--> 176\u001b[0;31m   \u001b[0;32mreturn\u001b[0m \u001b[0mread_reply_from_input\u001b[0m\u001b[0;34m(\u001b[0m\u001b[0mrequest_id\u001b[0m\u001b[0;34m,\u001b[0m \u001b[0mtimeout_sec\u001b[0m\u001b[0;34m)\u001b[0m\u001b[0;34m\u001b[0m\u001b[0;34m\u001b[0m\u001b[0m\n\u001b[0m",
      "\u001b[0;32m/usr/local/lib/python3.10/dist-packages/google/colab/_message.py\u001b[0m in \u001b[0;36mread_reply_from_input\u001b[0;34m(message_id, timeout_sec)\u001b[0m\n\u001b[1;32m    101\u001b[0m     ):\n\u001b[1;32m    102\u001b[0m       \u001b[0;32mif\u001b[0m \u001b[0;34m'error'\u001b[0m \u001b[0;32min\u001b[0m \u001b[0mreply\u001b[0m\u001b[0;34m:\u001b[0m\u001b[0;34m\u001b[0m\u001b[0;34m\u001b[0m\u001b[0m\n\u001b[0;32m--> 103\u001b[0;31m         \u001b[0;32mraise\u001b[0m \u001b[0mMessageError\u001b[0m\u001b[0;34m(\u001b[0m\u001b[0mreply\u001b[0m\u001b[0;34m[\u001b[0m\u001b[0;34m'error'\u001b[0m\u001b[0;34m]\u001b[0m\u001b[0;34m)\u001b[0m\u001b[0;34m\u001b[0m\u001b[0;34m\u001b[0m\u001b[0m\n\u001b[0m\u001b[1;32m    104\u001b[0m       \u001b[0;32mreturn\u001b[0m \u001b[0mreply\u001b[0m\u001b[0;34m.\u001b[0m\u001b[0mget\u001b[0m\u001b[0;34m(\u001b[0m\u001b[0;34m'data'\u001b[0m\u001b[0;34m,\u001b[0m \u001b[0;32mNone\u001b[0m\u001b[0;34m)\u001b[0m\u001b[0;34m\u001b[0m\u001b[0;34m\u001b[0m\u001b[0m\n\u001b[1;32m    105\u001b[0m \u001b[0;34m\u001b[0m\u001b[0m\n",
      "\u001b[0;31mMessageError\u001b[0m: Error: credential propagation was unsuccessful"
     ]
    }
   ],
   "source": [
    "from google.colab import drive\n",
    "drive.mount('/content/drive')"
   ]
  },
  {
   "cell_type": "code",
   "execution_count": null,
   "metadata": {
    "id": "CrPD1dE4DHg7"
   },
   "outputs": [],
   "source": [
    "data = pd.read_excel('/content/Terminos_tiempo.xlsx')\n",
    "data.head()"
   ]
  },
  {
   "cell_type": "code",
   "execution_count": null,
   "metadata": {
    "id": "vFHGk0GCQOCm"
   },
   "outputs": [],
   "source": [
    "data.tail()"
   ]
  },
  {
   "cell_type": "code",
   "execution_count": null,
   "metadata": {
    "id": "WGmQy9VuQQA0"
   },
   "outputs": [],
   "source": [
    "data.info()"
   ]
  },
  {
   "cell_type": "code",
   "execution_count": null,
   "metadata": {
    "id": "JLPVHHoiQRf2"
   },
   "outputs": [],
   "source": [
    "data.describe()"
   ]
  },
  {
   "cell_type": "markdown",
   "metadata": {
    "id": "b9_Pw4lkQpqj"
   },
   "source": [
    "## Resaltando Máximos y Minimos con colores"
   ]
  },
  {
   "cell_type": "code",
   "execution_count": null,
   "metadata": {
    "id": "xK15N8LiQrax"
   },
   "outputs": [],
   "source": [
    "data.style.highlight_max(color='green').highlight_min(color='red')"
   ]
  },
  {
   "cell_type": "markdown",
   "metadata": {
    "id": "VOXJzjVhQ2X6"
   },
   "source": [
    "funcion <b>background_gradient()</b>para pintar las celdas con un color de acuerdo a su valor. Existe varios mapas de colores disponibles (https://matplotlib.org/gallery/color/colormap_reference.html)"
   ]
  },
  {
   "cell_type": "code",
   "execution_count": null,
   "metadata": {
    "id": "RJymehkHRIjo"
   },
   "outputs": [],
   "source": [
    "data.style.background_gradient(subset=['data science', 'machine learning'], cmap='BuGn')"
   ]
  },
  {
   "cell_type": "code",
   "execution_count": null,
   "metadata": {
    "id": "iDt-R6aJRLuy"
   },
   "outputs": [],
   "source": [
    "data.style.background_gradient(subset=['data science'], cmap='BuGn').background_gradient(subset=['machine learning'], cmap='Greys')"
   ]
  },
  {
   "cell_type": "markdown",
   "metadata": {
    "id": "5Zqr33CqRQE0"
   },
   "source": [
    "## Usando barras para mostrar valores de tablas"
   ]
  },
  {
   "cell_type": "code",
   "execution_count": null,
   "metadata": {
    "id": "2WgTpYn4RUY2"
   },
   "outputs": [],
   "source": [
    "data.style.bar(color='green', subset=['data science', 'deep learning'])"
   ]
  },
  {
   "cell_type": "code",
   "execution_count": null,
   "metadata": {
    "id": "xF63qwKDRc9u"
   },
   "outputs": [],
   "source": [
    "df_estilizado = data.style.format({'Mes':'{:%m/%Y}'}).background_gradient(subset=['data science'], cmap='BuGn').bar(color='red', subset=['deep learning']).background_gradient(subset=['machine learning'], cmap='plasma')\n",
    "df_estilizado"
   ]
  },
  {
   "cell_type": "code",
   "execution_count": null,
   "metadata": {
    "id": "WnksH6qJRjb2"
   },
   "outputs": [],
   "source": [
    "df_estilizado.to_excel('prueba.xlsx')"
   ]
  },
  {
   "cell_type": "markdown",
   "metadata": {
    "id": "3dH4dRDvRnbi"
   },
   "source": [
    "<a name='matplotlib'></a>\n",
    "# <font color=blue>Visualizacion con Matplotlib</font>"
   ]
  },
  {
   "cell_type": "markdown",
   "metadata": {
    "id": "tSj4Ajg9bzNf"
   },
   "source": [
    "<b>matplotlib.pyplot</b> provee una colección de funciones al estilo de comandos. Cada función de pyplot realiza algún cambio en una figura"
   ]
  },
  {
   "cell_type": "code",
   "execution_count": null,
   "metadata": {
    "id": "xcVrTbr7b_gu"
   },
   "outputs": [],
   "source": [
    "import matplotlib.pyplot as plt"
   ]
  },
  {
   "cell_type": "markdown",
   "metadata": {
    "id": "0HbdBPcQcHzy"
   },
   "source": [
    "## Plot de linea"
   ]
  },
  {
   "cell_type": "code",
   "execution_count": null,
   "metadata": {
    "id": "boXM-M1TcIlG"
   },
   "outputs": [],
   "source": [
    "data = pd.read_excel('/content/Terminos_tiempo.xlsx')\n",
    "plt.figure(figsize=(8,4))\n",
    "plt.plot( data['Mes'], data['data science'] )\n",
    "plt.show()"
   ]
  },
  {
   "cell_type": "code",
   "execution_count": null,
   "metadata": {
    "id": "PATzvkwrcReH"
   },
   "outputs": [],
   "source": [
    "plt.figure(figsize=(8,4))\n",
    "plt.plot(data['Mes'], data['data science'], label='data science')\n",
    "plt.title('Popularidad de Terminos Buscados por fecha')\n",
    "plt.xlabel('Fecha')\n",
    "plt.ylabel('Popularidad')\n",
    "plt.grid(True)\n",
    "plt.legend()\n",
    "plt.show()"
   ]
  },
  {
   "cell_type": "markdown",
   "metadata": {
    "id": "zMXI6WgfclJp"
   },
   "source": [
    "### Ploteando multiples variables  \n"
   ]
  },
  {
   "cell_type": "code",
   "execution_count": null,
   "metadata": {
    "id": "vmDhsydMcW8f"
   },
   "outputs": [],
   "source": [
    "plt.figure(figsize=[10,8])\n",
    "plt.plot(data['Mes'], data['data science'], label='data science', color='black',linestyle='dashed', linewidth=4)\n",
    "plt.plot(data['Mes'], data['machine learning'], label='machine learning')\n",
    "plt.plot(data['Mes'], data['deep learning'], label='deep learning')\n",
    "plt.title('Popularidad de Terminos Buscados por fecha')\n",
    "plt.xlabel('Fecha')\n",
    "plt.ylabel('Popularidad')\n",
    "plt.grid(True)\n",
    "plt.legend()\n",
    "plt.savefig('grafico.pdf')\n",
    "plt.show()"
   ]
  },
  {
   "cell_type": "markdown",
   "metadata": {
    "id": "l1U-Y_0XdDbM"
   },
   "source": [
    "### Ploteando directamente un Dataframe"
   ]
  },
  {
   "cell_type": "markdown",
   "metadata": {
    "id": "xn_6s9v6dL2V"
   },
   "source": [
    "Dataframes tienen el metodo .plot() que plotea sus columnas con respecto a su indice"
   ]
  },
  {
   "cell_type": "code",
   "execution_count": null,
   "metadata": {
    "id": "ItbOtuELdMmA"
   },
   "outputs": [],
   "source": [
    "data1 = data[['data science', 'machine learning', 'deep learning']]\n",
    "data1.index = data['Mes']\n",
    "data1.head()"
   ]
  },
  {
   "cell_type": "code",
   "execution_count": null,
   "metadata": {
    "id": "DYC3NrbIdTFJ"
   },
   "outputs": [],
   "source": [
    "data1.plot(figsize=(10,8))\n",
    "plt.title('Popularidad de Terminos Buscados por fecha')\n",
    "plt.xlabel('Fecha')\n",
    "plt.ylabel('Popularidad')\n",
    "plt.grid(True)\n",
    "plt.legend()\n",
    "plt.show()"
   ]
  },
  {
   "cell_type": "markdown",
   "metadata": {
    "id": "6LRvIAjnd3y3"
   },
   "source": [
    "## Plots de Area"
   ]
  },
  {
   "cell_type": "code",
   "execution_count": null,
   "metadata": {
    "id": "i0fzmfe9da7H"
   },
   "outputs": [],
   "source": [
    "data = pd.read_excel('ImmigrantsCanada.xlsx', sheet_name='Canada by Citizenship' )\n",
    "data"
   ]
  },
  {
   "cell_type": "code",
   "execution_count": null,
   "metadata": {
    "id": "egg9InTFeBAc"
   },
   "outputs": [],
   "source": [
    "data.columns"
   ]
  },
  {
   "cell_type": "code",
   "execution_count": null,
   "metadata": {
    "id": "PAQHHSo1eKFg"
   },
   "outputs": [],
   "source": [
    "data.columns = list(map(str, data.columns))\n",
    "data.columns"
   ]
  },
  {
   "cell_type": "code",
   "execution_count": null,
   "metadata": {
    "id": "n4wQbrO9eQs7"
   },
   "outputs": [],
   "source": [
    "data.set_index('Country', inplace=True)\n",
    "data.head()"
   ]
  },
  {
   "cell_type": "code",
   "execution_count": null,
   "metadata": {
    "id": "P-mFVwioeWnN"
   },
   "outputs": [],
   "source": [
    "data['Total'] = data.sum(axis=1)\n",
    "data.head(3)"
   ]
  },
  {
   "cell_type": "code",
   "execution_count": null,
   "metadata": {
    "id": "UpLdEDKveZOm"
   },
   "outputs": [],
   "source": [
    "years = list(map(str, range(1980, 2014)))\n",
    "print(years)"
   ]
  },
  {
   "cell_type": "code",
   "execution_count": null,
   "metadata": {
    "id": "DzVB9-Y7emu8"
   },
   "outputs": [],
   "source": [
    "data.sort_values(by='Total', ascending=False, axis=0, inplace=True)\n",
    "data_top5 = data[years].head(5)\n",
    "data_top5"
   ]
  },
  {
   "cell_type": "code",
   "execution_count": null,
   "metadata": {
    "id": "yZqEtqGYevab"
   },
   "outputs": [],
   "source": [
    "data_top5 = data_top5.transpose()\n",
    "data_top5.head()"
   ]
  },
  {
   "cell_type": "code",
   "execution_count": null,
   "metadata": {
    "id": "JctNNFnQexeH"
   },
   "outputs": [],
   "source": [
    "data_top5.plot( figsize= [12,8] )\n",
    "plt.title('Evolucion de Inmigracion a Canada de los 5 paises mas aportan inmigrantes',fontdict={'fontsize':16})\n",
    "plt.xlabel('Año')\n",
    "plt.ylabel('Numero de Inmigrantes')\n",
    "plt.grid(True)\n",
    "plt.show()"
   ]
  },
  {
   "cell_type": "code",
   "execution_count": null,
   "metadata": {
    "id": "0plORmJefAO6"
   },
   "outputs": [],
   "source": [
    "data_top5.plot(kind='area', stacked=True, figsize=(15, 8), alpha=0.2)\n",
    "plt.title('Evolucion de Inmigracion a Canada de los 5 paises mas aportan inmigrantes')\n",
    "plt.ylabel('Numero de Inmigrantes')\n",
    "plt.xlabel('Año')\n",
    "plt.grid(True)\n",
    "plt.show()"
   ]
  },
  {
   "cell_type": "markdown",
   "metadata": {
    "id": "A-H3HOkvfdJi"
   },
   "source": [
    "## Plot de barras"
   ]
  },
  {
   "cell_type": "markdown",
   "metadata": {
    "id": "F9-regYmfQrI"
   },
   "source": [
    "* <b>kind=bar</b> a la funcion plot  genera un plot de barras verticales.  \n",
    "* <b>kind=barh</b> a la funcion plot  genera un plot de barras horizontales."
   ]
  },
  {
   "cell_type": "markdown",
   "metadata": {
    "id": "cU4cnj8Mfk21"
   },
   "source": [
    "### Barras verticales"
   ]
  },
  {
   "cell_type": "code",
   "execution_count": null,
   "metadata": {
    "id": "PdInKpY7fdqg"
   },
   "outputs": [],
   "source": [
    "data"
   ]
  },
  {
   "cell_type": "code",
   "execution_count": null,
   "metadata": {
    "id": "3SwZ7WFNfqEb"
   },
   "outputs": [],
   "source": [
    "data_haiti = data.loc['Haiti', years]\n",
    "data_haiti.head()"
   ]
  },
  {
   "cell_type": "code",
   "execution_count": null,
   "metadata": {
    "id": "K_j6VMvHfrpO"
   },
   "outputs": [],
   "source": [
    "data_haiti.plot(kind='bar', figsize=(12, 6))\n",
    "plt.xlabel('Año')\n",
    "plt.ylabel('Numero de Inmigrantes')\n",
    "plt.title('Inmigrants de Haiti hacia Canada entre 1980 a 2013')\n",
    "plt.show()"
   ]
  },
  {
   "cell_type": "code",
   "execution_count": null,
   "metadata": {
    "id": "9izE5czXfusK"
   },
   "outputs": [],
   "source": [
    "data_haiti_peru = data.loc[['Haiti', 'Peru'], years]\n",
    "data_haiti_peru.head()"
   ]
  },
  {
   "cell_type": "code",
   "execution_count": null,
   "metadata": {
    "id": "TWPoN-8-f1PQ"
   },
   "outputs": [],
   "source": [
    "data_haiti_peru.plot(kind='bar', figsize=(12, 6) )\n",
    "plt.show()"
   ]
  },
  {
   "cell_type": "code",
   "execution_count": null,
   "metadata": {
    "id": "iZFHvYref6XI"
   },
   "outputs": [],
   "source": [
    "data_haiti_peru = data_haiti_peru.transpose()"
   ]
  },
  {
   "cell_type": "code",
   "execution_count": null,
   "metadata": {
    "id": "ggEubxeLgHR2"
   },
   "outputs": [],
   "source": [
    "data_haiti_peru.plot( kind='bar', figsize=(12, 6) )\n",
    "plt.xlabel('Año')\n",
    "plt.ylabel('Numero de Inmigrantes')\n",
    "plt.title('Inmigrants de Haiti y Peru hacia Canada entre 1980 a 2013')\n",
    "plt.grid()\n",
    "plt.show()"
   ]
  },
  {
   "cell_type": "markdown",
   "metadata": {
    "id": "MqeebWUigNWA"
   },
   "source": [
    "### Barras horizontales"
   ]
  },
  {
   "cell_type": "code",
   "execution_count": null,
   "metadata": {
    "id": "zkgEti12gQmH"
   },
   "outputs": [],
   "source": [
    "data.sort_values(by='Total', ascending=False, inplace=True)\n",
    "data_top10 = data['Total'].head(10)\n",
    "data_top10"
   ]
  },
  {
   "cell_type": "code",
   "execution_count": null,
   "metadata": {
    "id": "EeuYveYqgVad"
   },
   "outputs": [],
   "source": [
    "data_top10.plot(kind='barh', figsize=(12, 12), color='steelblue', )\n",
    "plt.xlabel('Numero de Inmigrantes')\n",
    "plt.title('10 Paises que mas contribuyen a la Inmigración a Canada entre 1980 - 2013')\n",
    "plt.show()"
   ]
  },
  {
   "cell_type": "code",
   "execution_count": null,
   "metadata": {
    "id": "bfVmp6kSgk5Y"
   },
   "outputs": [],
   "source": [
    "data_top10.sort_values( ascending=True, inplace=True)\n",
    "data_top10.plot(kind='barh', figsize=(12, 12), color='steelblue', )\n",
    "plt.xlabel('Numero de Inmigrantes')\n",
    "plt.title('10 Paises que mas contribuyen a la Inmigración a Canada entre 1980 - 2013')\n",
    "plt.show()"
   ]
  },
  {
   "cell_type": "markdown",
   "metadata": {
    "id": "gjlYDyAag0mt"
   },
   "source": [
    "## Pie Plots"
   ]
  },
  {
   "cell_type": "code",
   "execution_count": null,
   "metadata": {
    "id": "pKFMw4-gg3rv"
   },
   "outputs": [],
   "source": [
    "data"
   ]
  },
  {
   "cell_type": "code",
   "execution_count": null,
   "metadata": {
    "id": "V4LDhESPg6H3"
   },
   "outputs": [],
   "source": [
    "data_continents = data.groupby('Continent').sum()\n",
    "data_continents"
   ]
  },
  {
   "cell_type": "code",
   "execution_count": null,
   "metadata": {
    "id": "m4vQTnCeg900"
   },
   "outputs": [],
   "source": [
    "data_continents['Total'].plot(kind='pie',\n",
    "                              figsize=(5, 6),\n",
    "                              autopct='%.1f%%',\n",
    "                              startangle=90,\n",
    "                              shadow=False )\n",
    "\n",
    "plt.title('Inmigraciona a Canada por Continente entre 1980 - 2013')\n",
    "plt.axis('equal')\n",
    "plt.show()"
   ]
  },
  {
   "cell_type": "markdown",
   "metadata": {
    "id": "eUfkrdYlhN4h"
   },
   "source": [
    "## Scatter Plots"
   ]
  },
  {
   "cell_type": "code",
   "execution_count": null,
   "metadata": {
    "id": "Rukm-LQHhQQR"
   },
   "outputs": [],
   "source": [
    "data_insurance = pd.read_csv('Insurance.csv')\n",
    "data_insurance"
   ]
  },
  {
   "cell_type": "code",
   "execution_count": null,
   "metadata": {
    "id": "hy3gRPI5hR9Z"
   },
   "outputs": [],
   "source": [
    "data_insurance.isnull().values.any()"
   ]
  },
  {
   "cell_type": "code",
   "execution_count": null,
   "metadata": {
    "id": "kpnpQX_xhS_S"
   },
   "outputs": [],
   "source": [
    "data_insurance.info()"
   ]
  },
  {
   "cell_type": "code",
   "execution_count": null,
   "metadata": {
    "id": "GfMN7dkFhUbi"
   },
   "outputs": [],
   "source": [
    "data_insurance.plot(kind='scatter', x='age', y='charges', figsize=(10, 6), color='darkblue')\n",
    "\n",
    "plt.title('Scatter plot: Prima de seguro de salud vs edad ')\n",
    "plt.xlabel('Edad')\n",
    "plt.ylabel('Prima de seguro')\n",
    "plt.show()"
   ]
  },
  {
   "cell_type": "markdown",
   "metadata": {
    "id": "Tlf2p1rphjnY"
   },
   "source": [
    "## Histogramas"
   ]
  },
  {
   "cell_type": "code",
   "execution_count": null,
   "metadata": {
    "id": "x4TkKX4HhkZw"
   },
   "outputs": [],
   "source": [
    "data_insurance['age'].plot(kind='hist', bins=20, figsize=(8, 6))\n",
    "plt.title('Histograma de la edad de los usuarios')\n",
    "plt.ylabel('conteo')\n",
    "plt.xlabel('edad')\n",
    "plt.show()"
   ]
  },
  {
   "cell_type": "code",
   "execution_count": null,
   "metadata": {
    "id": "QGL48cQzhptU"
   },
   "outputs": [],
   "source": [
    "data_insurance['bmi'].plot(kind='hist', bins=50, figsize=(8, 6))\n",
    "plt.title('Histograma del BMI')\n",
    "plt.ylabel('conteo')\n",
    "plt.xlabel('bmi')\n",
    "plt.show()"
   ]
  },
  {
   "cell_type": "markdown",
   "metadata": {
    "id": "fSMV23HJh2sw"
   },
   "source": [
    "## Plot de Densidad"
   ]
  },
  {
   "cell_type": "code",
   "execution_count": null,
   "metadata": {
    "id": "MSzkQHS-h3e_"
   },
   "outputs": [],
   "source": [
    "data_insurance['bmi'].plot(kind='density', figsize=(8,6))\n",
    "plt.title('Plot de densidad del BMI')\n",
    "plt.ylabel('densidad')\n",
    "plt.xlabel('bmi')\n",
    "plt.show()"
   ]
  },
  {
   "cell_type": "markdown",
   "metadata": {
    "id": "Qc-uIyKOiJEi"
   },
   "source": [
    "## Plot de Matriz de Correlaciones"
   ]
  },
  {
   "cell_type": "code",
   "execution_count": null,
   "metadata": {
    "id": "nvfYKy2UiS2Y"
   },
   "outputs": [],
   "source": [
    "filename = 'pima-indians-diabetes.data.csv'\n",
    "names = ['preg', 'plas', 'pres', 'skin', 'test', 'mass', 'pedi', 'age', 'class']\n",
    "data_diabetes = pd.read_csv(filename, names=names)\n",
    "data_diabetes.head()"
   ]
  },
  {
   "cell_type": "code",
   "execution_count": null,
   "metadata": {
    "id": "e3IryQodiU58"
   },
   "outputs": [],
   "source": [
    "correlations = data_diabetes.corr( )\n",
    "correlations"
   ]
  },
  {
   "cell_type": "code",
   "execution_count": null,
   "metadata": {
    "id": "3a3g0KYEiXwN"
   },
   "outputs": [],
   "source": [
    "correlations.style.background_gradient()"
   ]
  }
 ],
 "metadata": {
  "colab": {
   "provenance": []
  },
  "kernelspec": {
   "display_name": "Python 3 (ipykernel)",
   "language": "python",
   "name": "python3"
  },
  "language_info": {
   "codemirror_mode": {
    "name": "ipython",
    "version": 3
   },
   "file_extension": ".py",
   "mimetype": "text/x-python",
   "name": "python",
   "nbconvert_exporter": "python",
   "pygments_lexer": "ipython3",
   "version": "3.12.4"
  }
 },
 "nbformat": 4,
 "nbformat_minor": 4
}
