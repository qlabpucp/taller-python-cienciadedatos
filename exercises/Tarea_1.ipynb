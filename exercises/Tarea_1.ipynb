{
  "nbformat": 4,
  "nbformat_minor": 0,
  "metadata": {
    "colab": {
      "provenance": []
    },
    "kernelspec": {
      "name": "python3",
      "display_name": "Python 3"
    },
    "language_info": {
      "name": "python"
    }
  },
  "cells": [
    {
      "cell_type": "code",
      "execution_count": 1,
      "metadata": {
        "id": "9PHyNtlIT-R9"
      },
      "outputs": [],
      "source": [
        "def imprimir_nombre(nombre):\n",
        "  '''Esta función imprime tu nombre'''\n",
        "\n",
        "  return f\"Mi nombre es {nombre}\""
      ]
    },
    {
      "cell_type": "code",
      "source": [
        "imprimir_nombre(\"Esteban\")"
      ],
      "metadata": {
        "colab": {
          "base_uri": "https://localhost:8080/",
          "height": 36
        },
        "id": "-ol9ySfiUdHK",
        "outputId": "f99f9762-e496-4973-a816-fbe9f4a285bb"
      },
      "execution_count": 3,
      "outputs": [
        {
          "output_type": "execute_result",
          "data": {
            "text/plain": [
              "'Mi nombre es Esteban'"
            ],
            "application/vnd.google.colaboratory.intrinsic+json": {
              "type": "string"
            }
          },
          "metadata": {},
          "execution_count": 3
        }
      ]
    },
    {
      "cell_type": "code",
      "source": [
        "def imprimir_datos(nombre, edad, carrera):\n",
        "  '''Esta función imprime tus datos'''\n",
        "\n",
        "  return f\"Mi nombre es {nombre}. Tengo {edad} años y estudio {carrera}.\""
      ],
      "metadata": {
        "id": "FnLzEjpmU-hB"
      },
      "execution_count": 4,
      "outputs": []
    },
    {
      "cell_type": "code",
      "source": [
        "imprimir_datos(\"Esteban\", 23, \"Economía\")"
      ],
      "metadata": {
        "colab": {
          "base_uri": "https://localhost:8080/",
          "height": 36
        },
        "id": "jCuyqdRMVHrQ",
        "outputId": "f2b8a241-2d19-468f-f999-754f8c5f01fb"
      },
      "execution_count": 5,
      "outputs": [
        {
          "output_type": "execute_result",
          "data": {
            "text/plain": [
              "'Mi nombre es Esteban. Tengo 23 años y estudio Economía.'"
            ],
            "application/vnd.google.colaboratory.intrinsic+json": {
              "type": "string"
            }
          },
          "metadata": {},
          "execution_count": 5
        }
      ]
    }
  ]
}